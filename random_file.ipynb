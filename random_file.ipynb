{
 "cells": [
  {
   "cell_type": "code",
   "execution_count": 1,
   "metadata": {},
   "outputs": [],
   "source": [
    "import numpy as np\n",
    "import pandas as pd"
   ]
  },
  {
   "cell_type": "code",
   "execution_count": 2,
   "metadata": {},
   "outputs": [],
   "source": [
    "\n",
    "input_file_name=f'C:/Users/hp/Downloads/CaseNum_245Results_fault.csv'\n",
    "df = pd.read_csv(input_file_name,index_col=False)\n",
    "df['V1']=0\n",
    "df['PI7']=0\n",
    "df['QI7']=0\n",
    "df=df[['V1','PI2','PI3','PI7','PI8','PI10','PI11','PI12','PI14','QI2','QI3','QI7','QI8','QI10','QI11','QI12','QI14','PF12','PF23','PF42','PF47','PF49','PF52','PF54','PF56','PF613','PF79','PF116','PF1213','QF12','QF23','QF42','QF47','QF49','QF52','QF54','QF56','QF613','QF79','QF116','QF1213']]\n",
    "df=df/100\n",
    "df['V1']=1\n",
    "output_file_name = f'C:/Users/hp/Downloads/CaseNum_245Results_fault_modified.csv'\n",
    "df.to_csv(output_file_name,index=False)"
   ]
  },
  {
   "cell_type": "code",
   "execution_count": 8,
   "metadata": {},
   "outputs": [],
   "source": [
    "input_file_name=f'C:/Users/hp/Downloads/Z_BAD_248.csv'\n",
    "df = pd.read_csv(input_file_name,index_col=False,header=None)\n",
    "df2 = df.loc[df.index.repeat(5)]\n",
    "\n",
    "# reset the index of the output dataframe\n",
    "df2 = df2.reset_index(drop=True)\n",
    "output_file_name = f'C:/Users/hp/Downloads/Z_BAD_248_modified.csv'\n",
    "df2.to_csv(output_file_name,index=False,header=None)\n"
   ]
  },
  {
   "cell_type": "code",
   "execution_count": null,
   "metadata": {},
   "outputs": [],
   "source": [
    "# def hx(x):\n",
    "#     H=HJacobian_at1(x)\n",
    "#     print(\"H.shape\",H.shape)\n",
    "#     h222=np.dot(H, x)\n",
    "#     print(h222.shape)\n",
    "#     return h222\n",
    "\n",
    "def hx(x):\n",
    "    # measurement function\n",
    "    # H = np.random.randn(dim_z, dim_x) # random matrix\n",
    "    H=HJacobian_at1(x)\n",
    "    print(\"H.shape\",H.shape)\n",
    "    hh=np.dot(H, x)\n",
    "    print(hh.shape)\n",
    "    return hh"
   ]
  }
 ],
 "metadata": {
  "kernelspec": {
   "display_name": "base",
   "language": "python",
   "name": "python3"
  },
  "language_info": {
   "codemirror_mode": {
    "name": "ipython",
    "version": 3
   },
   "file_extension": ".py",
   "mimetype": "text/x-python",
   "name": "python",
   "nbconvert_exporter": "python",
   "pygments_lexer": "ipython3",
   "version": "3.11.5"
  }
 },
 "nbformat": 4,
 "nbformat_minor": 2
}
