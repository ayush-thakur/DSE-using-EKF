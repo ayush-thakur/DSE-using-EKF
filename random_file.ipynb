{
 "cells": [
  {
   "cell_type": "code",
   "execution_count": null,
   "metadata": {},
   "outputs": [],
   "source": [
    "import numpy as np"
   ]
  },
  {
   "cell_type": "code",
   "execution_count": null,
   "metadata": {},
   "outputs": [],
   "source": [
    "initial_state = np.zeros(27)  # Initial state vector\n",
    "s=0\n",
    "for i in range(13,27):\n",
    "    print(i)\n",
    "    s=s+1;\n",
    "    initial_state[i]=1\n",
    "\n",
    "print(\"hi\")   \n",
    "print(initial_state)\n",
    "print(s)\n"
   ]
  },
  {
   "cell_type": "code",
   "execution_count": null,
   "metadata": {},
   "outputs": [],
   "source": [
    "# def hx(x):\n",
    "#     H=HJacobian_at1(x)\n",
    "#     print(\"H.shape\",H.shape)\n",
    "#     h222=np.dot(H, x)\n",
    "#     print(h222.shape)\n",
    "#     return h222\n",
    "\n",
    "def hx(x):\n",
    "    # measurement function\n",
    "    # H = np.random.randn(dim_z, dim_x) # random matrix\n",
    "    H=HJacobian_at1(x)\n",
    "    print(\"H.shape\",H.shape)\n",
    "    hh=np.dot(H, x)\n",
    "    print(hh.shape)\n",
    "    return hh"
   ]
  }
 ],
 "metadata": {
  "kernelspec": {
   "display_name": "base",
   "language": "python",
   "name": "python3"
  },
  "language_info": {
   "codemirror_mode": {
    "name": "ipython",
    "version": 3
   },
   "file_extension": ".py",
   "mimetype": "text/x-python",
   "name": "python",
   "nbconvert_exporter": "python",
   "pygments_lexer": "ipython3",
   "version": "3.11.5"
  }
 },
 "nbformat": 4,
 "nbformat_minor": 2
}
